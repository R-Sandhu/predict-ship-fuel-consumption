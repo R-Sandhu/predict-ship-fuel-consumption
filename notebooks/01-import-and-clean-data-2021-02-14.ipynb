{
 "cells": [
  {
   "cell_type": "markdown",
   "metadata": {},
   "source": [
    "**Import modules**"
   ]
  },
  {
   "cell_type": "code",
   "execution_count": 2,
   "metadata": {},
   "outputs": [],
   "source": [
    "import pandas as pd\n",
    "import numpy as np\n",
    "from csv import reader"
   ]
  },
  {
   "cell_type": "markdown",
   "metadata": {},
   "source": [
    "**Load Data**"
   ]
  },
  {
   "cell_type": "code",
   "execution_count": 3,
   "metadata": {},
   "outputs": [],
   "source": [
    "def load_csv(fileName):\n",
    "    \"\"\"\n",
    "    Load data from a csv file \n",
    "    \n",
    "    Parameters\n",
    "    ----------\n",
    "    fileNanme: str\n",
    "      Complete path of input dataset\n",
    "    \n",
    "    Returns\n",
    "    -------\n",
    "    List\n",
    "      List of lists where each element represents a single record\n",
    "    \"\"\"\n",
    "    dataset = list()\n",
    "    with open(fileName, \"r\") as f:\n",
    "        csv_reader = reader(f)\n",
    "        for row in csv_reader:\n",
    "            if not row:\n",
    "                continue\n",
    "            dataset.append(row)\n",
    "    return dataset"
   ]
  },
  {
   "cell_type": "markdown",
   "metadata": {},
   "source": [
    "**Import raw data from local disk**"
   ]
  },
  {
   "cell_type": "code",
   "execution_count": 7,
   "metadata": {},
   "outputs": [
    {
     "name": "stdout",
     "output_type": "stream",
     "text": [
      "Loaded data with 16249 rows and 26 columns\n"
     ]
    }
   ],
   "source": [
    "fileName = '/Users/ranjeetsandhu/Documents/DataScience/Python/Projects_2021/shipFuelConsumption/predict-fuel-consumption/data/raw/ship_data.csv'\n",
    "dataset = load_csv(fileName)\n",
    "print(\"Loaded data with {0} rows and {1} columns\".format(len(dataset), len(dataset[0])))"
   ]
  },
  {
   "cell_type": "markdown",
   "metadata": {},
   "source": [
    "**Convert to a pandas data frame**"
   ]
  },
  {
   "cell_type": "code",
   "execution_count": 8,
   "metadata": {},
   "outputs": [],
   "source": [
    "colNames = dataset[0]\n",
    "df = pd.DataFrame(dataset[1:], columns=colNames)"
   ]
  },
  {
   "cell_type": "markdown",
   "metadata": {},
   "source": [
    "**Functions to convert unix timestamp to date-time object and re-index data frame, rename dataFrame columns to more readable names for easy referencing**"
   ]
  },
  {
   "cell_type": "code",
   "execution_count": 25,
   "metadata": {},
   "outputs": [],
   "source": [
    "def time_index(data, col_ts, ts_units):\n",
    "    \"\"\"\n",
    "    Convert unix ts to date-time and re-index data-frame \n",
    "    \n",
    "    Parameters\n",
    "    ----------\n",
    "    data: Pandas DataFrame\n",
    "      Input pandas data frame object\n",
    "    col_ts: str\n",
    "      Column name with timestamp data\n",
    "    ts_units: str\n",
    "      Units of the timestamp. This could be 's' as seconds, refer to documentation for more options.\n",
    "    \n",
    "    Returns\n",
    "    -------\n",
    "    DataFrame\n",
    "      Pandas DataFrame object with dateTime index\n",
    "    \"\"\"\n",
    "    data[col_ts] = pd.to_datetime(data[col_ts], unit=ts_units)\n",
    "    data.set_index(col_ts, inplace=True)\n",
    "    return data\n",
    "\n",
    "def rename_cols(data, new_col_names):\n",
    "    \"\"\"\n",
    "    Rename columns \n",
    "    \"\"\"\n",
    "    data.columns = new_col_names\n",
    "    return data    "
   ]
  },
  {
   "cell_type": "code",
   "execution_count": null,
   "metadata": {},
   "outputs": [],
   "source": [
    "df = time_index(df, 'Time', 's')"
   ]
  },
  {
   "cell_type": "code",
   "execution_count": 30,
   "metadata": {},
   "outputs": [],
   "source": [
    "new_col_names = ['fuelConsumption', 'HFO', 'MGO', 'draftForward', 'draftAft', 'draftMid1', 'draftMid2',\n",
    "              'shaftSpeed', 'shaftTorque', 'shaftPower', 'speedGround', 'speedWater', 'heading', 'rudderAngle',\n",
    "              'AWS', 'AWD', 'TWS', 'TWD', 'temp', 'currentDirection', 'currentSpeed', 'waterDepth', 'waveHeight',\n",
    "              'wavePeriod', 'waveDirection']\n",
    "\n",
    "df = rename_cols(df, new_col_names)"
   ]
  },
  {
   "cell_type": "code",
   "execution_count": 37,
   "metadata": {},
   "outputs": [],
   "source": [
    "# df.to_csv(\"indexed-dataFrame.csv\")"
   ]
  }
 ],
 "metadata": {
  "kernelspec": {
   "display_name": "Python 3",
   "language": "python",
   "name": "python3"
  },
  "language_info": {
   "codemirror_mode": {
    "name": "ipython",
    "version": 3
   },
   "file_extension": ".py",
   "mimetype": "text/x-python",
   "name": "python",
   "nbconvert_exporter": "python",
   "pygments_lexer": "ipython3",
   "version": "3.8.2"
  }
 },
 "nbformat": 4,
 "nbformat_minor": 4
}
