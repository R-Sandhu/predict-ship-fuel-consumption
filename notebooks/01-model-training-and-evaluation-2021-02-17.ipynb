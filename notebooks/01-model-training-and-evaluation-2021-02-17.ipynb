{
 "cells": [
  {
   "cell_type": "code",
   "execution_count": 2,
   "metadata": {},
   "outputs": [],
   "source": [
    "import numpy as np\n",
    "import pandas as pd\n",
    "import matplotlib.pyplot as plt\n",
    "import seaborn as sns"
   ]
  },
  {
   "cell_type": "code",
   "execution_count": 7,
   "metadata": {},
   "outputs": [],
   "source": [
    "%matplotlib inline\n",
    "plt.rcParams['figure.figsize'] = [15, 15]"
   ]
  },
  {
   "cell_type": "code",
   "execution_count": 3,
   "metadata": {},
   "outputs": [],
   "source": [
    "filePath = '/Users/ranjeetsandhu/Documents/DataScience/Python/Projects_2021/shipFuelConsumption/predict-fuel-consumption/data/processed/final_features.csv'\n",
    "df = pd.read_csv(filePath, index_col='Time', parse_dates=True)"
   ]
  },
  {
   "cell_type": "code",
   "execution_count": 4,
   "metadata": {},
   "outputs": [
    {
     "data": {
      "text/html": [
       "<div>\n",
       "<style scoped>\n",
       "    .dataframe tbody tr th:only-of-type {\n",
       "        vertical-align: middle;\n",
       "    }\n",
       "\n",
       "    .dataframe tbody tr th {\n",
       "        vertical-align: top;\n",
       "    }\n",
       "\n",
       "    .dataframe thead th {\n",
       "        text-align: right;\n",
       "    }\n",
       "</style>\n",
       "<table border=\"1\" class=\"dataframe\">\n",
       "  <thead>\n",
       "    <tr style=\"text-align: right;\">\n",
       "      <th></th>\n",
       "      <th>fuelConsumption</th>\n",
       "      <th>HFO</th>\n",
       "      <th>shaftSpeed</th>\n",
       "      <th>speedWater</th>\n",
       "      <th>heading</th>\n",
       "      <th>rudderAngle</th>\n",
       "      <th>TWS</th>\n",
       "      <th>TWD</th>\n",
       "      <th>temp</th>\n",
       "      <th>meanDraft</th>\n",
       "    </tr>\n",
       "    <tr>\n",
       "      <th>Time</th>\n",
       "      <th></th>\n",
       "      <th></th>\n",
       "      <th></th>\n",
       "      <th></th>\n",
       "      <th></th>\n",
       "      <th></th>\n",
       "      <th></th>\n",
       "      <th></th>\n",
       "      <th></th>\n",
       "      <th></th>\n",
       "    </tr>\n",
       "  </thead>\n",
       "  <tbody>\n",
       "    <tr>\n",
       "      <th>2017-07-06 13:15:00</th>\n",
       "      <td>0.0</td>\n",
       "      <td>0.0</td>\n",
       "      <td>84.878837</td>\n",
       "      <td>15.607449</td>\n",
       "      <td>167.741687</td>\n",
       "      <td>358.025169</td>\n",
       "      <td>6.675341</td>\n",
       "      <td>314.224434</td>\n",
       "      <td>20.283071</td>\n",
       "      <td>2.874424</td>\n",
       "    </tr>\n",
       "    <tr>\n",
       "      <th>2017-07-06 14:00:00</th>\n",
       "      <td>0.0</td>\n",
       "      <td>0.0</td>\n",
       "      <td>84.868300</td>\n",
       "      <td>15.776289</td>\n",
       "      <td>168.034239</td>\n",
       "      <td>357.967447</td>\n",
       "      <td>7.034934</td>\n",
       "      <td>308.615477</td>\n",
       "      <td>20.360865</td>\n",
       "      <td>2.877338</td>\n",
       "    </tr>\n",
       "    <tr>\n",
       "      <th>2017-07-06 15:00:00</th>\n",
       "      <td>0.0</td>\n",
       "      <td>0.0</td>\n",
       "      <td>84.874972</td>\n",
       "      <td>15.707046</td>\n",
       "      <td>152.496507</td>\n",
       "      <td>358.605730</td>\n",
       "      <td>7.778714</td>\n",
       "      <td>303.563221</td>\n",
       "      <td>20.534437</td>\n",
       "      <td>2.882920</td>\n",
       "    </tr>\n",
       "    <tr>\n",
       "      <th>2017-07-06 16:00:00</th>\n",
       "      <td>0.0</td>\n",
       "      <td>0.0</td>\n",
       "      <td>84.867446</td>\n",
       "      <td>15.723442</td>\n",
       "      <td>128.601049</td>\n",
       "      <td>358.864694</td>\n",
       "      <td>8.508143</td>\n",
       "      <td>300.737464</td>\n",
       "      <td>20.641539</td>\n",
       "      <td>2.886406</td>\n",
       "    </tr>\n",
       "    <tr>\n",
       "      <th>2017-07-06 17:00:00</th>\n",
       "      <td>0.0</td>\n",
       "      <td>0.0</td>\n",
       "      <td>84.864535</td>\n",
       "      <td>15.692471</td>\n",
       "      <td>107.945165</td>\n",
       "      <td>358.951153</td>\n",
       "      <td>8.541664</td>\n",
       "      <td>302.903406</td>\n",
       "      <td>20.662176</td>\n",
       "      <td>2.887449</td>\n",
       "    </tr>\n",
       "  </tbody>\n",
       "</table>\n",
       "</div>"
      ],
      "text/plain": [
       "                     fuelConsumption  HFO  shaftSpeed  speedWater     heading  \\\n",
       "Time                                                                            \n",
       "2017-07-06 13:15:00              0.0  0.0   84.878837   15.607449  167.741687   \n",
       "2017-07-06 14:00:00              0.0  0.0   84.868300   15.776289  168.034239   \n",
       "2017-07-06 15:00:00              0.0  0.0   84.874972   15.707046  152.496507   \n",
       "2017-07-06 16:00:00              0.0  0.0   84.867446   15.723442  128.601049   \n",
       "2017-07-06 17:00:00              0.0  0.0   84.864535   15.692471  107.945165   \n",
       "\n",
       "                     rudderAngle       TWS         TWD       temp  meanDraft  \n",
       "Time                                                                          \n",
       "2017-07-06 13:15:00   358.025169  6.675341  314.224434  20.283071   2.874424  \n",
       "2017-07-06 14:00:00   357.967447  7.034934  308.615477  20.360865   2.877338  \n",
       "2017-07-06 15:00:00   358.605730  7.778714  303.563221  20.534437   2.882920  \n",
       "2017-07-06 16:00:00   358.864694  8.508143  300.737464  20.641539   2.886406  \n",
       "2017-07-06 17:00:00   358.951153  8.541664  302.903406  20.662176   2.887449  "
      ]
     },
     "execution_count": 4,
     "metadata": {},
     "output_type": "execute_result"
    }
   ],
   "source": [
    "df.head()"
   ]
  },
  {
   "cell_type": "code",
   "execution_count": 8,
   "metadata": {},
   "outputs": [
    {
     "data": {
      "image/png": "[encoded data removed]",
      "text/plain": [
       "<Figure size 1080x1080 with 12 Axes>"
      ]
     },
     "metadata": {
      "needs_background": "light"
     },
     "output_type": "display_data"
    }
   ],
   "source": [
    "df.hist();"
   ]
  },
  {
   "cell_type": "code",
   "execution_count": 67,
   "metadata": {},
   "outputs": [],
   "source": [
    "from sklearn.preprocessing import StandardScaler\n",
    "from sklearn.model_selection import train_test_split"
   ]
  },
  {
   "cell_type": "code",
   "execution_count": 77,
   "metadata": {},
   "outputs": [],
   "source": [
    "# Create feature and target arrays\n",
    "features = df.drop('fuelConsumption', axis=1)\n",
    "target = df[['fuelConsumption']]"
   ]
  },
  {
   "cell_type": "code",
   "execution_count": 83,
   "metadata": {},
   "outputs": [],
   "source": [
    "# Test train split - train_test_split() method\n",
    "X_train, X_test, y_train, y_test = train_test_split(features, target, test_size=0.2, random_state=1)\n",
    "\n",
    "# Copy of datasets\n",
    "X_train_standard = X_train.copy()\n",
    "X_test_standard = X_test.copy()"
   ]
  },
  {
   "cell_type": "code",
   "execution_count": 84,
   "metadata": {},
   "outputs": [],
   "source": [
    "# numerical features\n",
    "num_cols = ['shaftSpeed', 'speedWater', 'heading', 'TWS', 'TWD', 'temp', 'meanDraft']\n",
    "\n",
    "scaler = StandardScaler()\n",
    "\n",
    "# apply standardization on numeric features\n",
    "\n",
    "for i in num_cols:\n",
    "    \n",
    "    # fit on training data column\n",
    "    scale = scaler.fit(X_train_standard[[i]])\n",
    "    \n",
    "    # transform the training data column\n",
    "    X_train_standard[i] = scale.transform(X_train_standard[[i]])\n",
    "    \n",
    "    # transform the test data column\n",
    "    X_test_standard[i] = scale.transform(X_test_standard[[i]])"
   ]
  },
  {
   "cell_type": "code",
   "execution_count": 96,
   "metadata": {},
   "outputs": [],
   "source": [
    "scaler = StandardScaler()\n",
    "\n",
    "# apply standardization on numeric features\n",
    "\n",
    "for i in X_train.columns:\n",
    "    \n",
    "    # fit on training data column\n",
    "    scale = scaler.fit(X_train_standard[[i]])\n",
    "    \n",
    "    # transform the training data column\n",
    "    X_train_standard[i] = scale.transform(X_train_standard[[i]])\n",
    "    \n",
    "    # transform the test data column\n",
    "    X_test_standard[i] = scale.transform(X_test_standard[[i]])"
   ]
  },
  {
   "cell_type": "code",
   "execution_count": 97,
   "metadata": {},
   "outputs": [],
   "source": [
    "from sklearn.linear_model import LinearRegression\n",
    "from sklearn.metrics import mean_squared_error as mse"
   ]
  },
  {
   "cell_type": "code",
   "execution_count": 104,
   "metadata": {},
   "outputs": [],
   "source": [
    "from pandas.plotting import scatter_matrix"
   ]
  },
  {
   "cell_type": "code",
   "execution_count": 112,
   "metadata": {},
   "outputs": [],
   "source": [
    "# Split-out validation dataset\n",
    "dataArray = df.values\n",
    "X = dataArray[:, 1:10]\n",
    "y = dataArray[:, 0]\n",
    "validation_size = 0.2\n",
    "seed = 1\n",
    "X_train, X_validation, y_train, y_validation = train_test_split(X, y, test_size=validation_size, random_state=seed)"
   ]
  },
  {
   "cell_type": "code",
   "execution_count": 115,
   "metadata": {},
   "outputs": [],
   "source": [
    "# Test options and evaluation metric\n",
    "num_folds = 10\n",
    "seed = 1\n",
    "scoring = 'neg_mean_squared_error'"
   ]
  },
  {
   "cell_type": "code",
   "execution_count": 117,
   "metadata": {},
   "outputs": [],
   "source": [
    "from pandas import set_option\n",
    "from pandas.plotting import scatter_matrix\n",
    "from sklearn.preprocessing import StandardScaler\n",
    "from sklearn.model_selection import train_test_split\n",
    "from sklearn.model_selection import KFold\n",
    "from sklearn.model_selection import cross_val_score\n",
    "from sklearn.model_selection import GridSearchCV\n",
    "from sklearn.linear_model import LinearRegression\n",
    "from sklearn.linear_model import Lasso\n",
    "from sklearn.linear_model import ElasticNet\n",
    "from sklearn.tree import DecisionTreeRegressor\n",
    "from sklearn.neighbors import KNeighborsRegressor\n",
    "from sklearn.svm import SVR\n",
    "from sklearn.pipeline import Pipeline\n",
    "from sklearn.ensemble import RandomForestRegressor\n",
    "from sklearn.ensemble import GradientBoostingRegressor\n",
    "from sklearn.ensemble import ExtraTreesRegressor\n",
    "from sklearn.ensemble import AdaBoostRegressor\n",
    "from sklearn.metrics import mean_squared_error"
   ]
  },
  {
   "cell_type": "code",
   "execution_count": 118,
   "metadata": {},
   "outputs": [],
   "source": [
    "# Spot-Check Algorithms\n",
    "models = []\n",
    "models.append(('LR', LinearRegression())) \n",
    "models.append(('LASSO', Lasso())) \n",
    "models.append(('EN', ElasticNet())) \n",
    "models.append(('KNN', KNeighborsRegressor())) \n",
    "models.append(('CART', DecisionTreeRegressor())) \n",
    "models.append(('SVR', SVR()))"
   ]
  },
  {
   "cell_type": "code",
   "execution_count": 128,
   "metadata": {},
   "outputs": [
    {
     "name": "stdout",
     "output_type": "stream",
     "text": [
      "LR: -27.941384 (1.342601)\n",
      "LASSO: -29.445360 (1.591052)\n",
      "EN: -29.486938 (1.597735)\n",
      "KNN: -7.240375 (1.778332)\n",
      "CART: -1.188966 (0.529301)\n",
      "SVR: -44.857969 (3.340308)\n"
     ]
    }
   ],
   "source": [
    "# evaluate each model in turn\n",
    "results = []\n",
    "names = []\n",
    "for name, model in models:\n",
    "  kfold = KFold(n_splits=num_folds, random_state=seed, shuffle=True)\n",
    "  cv_results = cross_val_score(model, X_train, y_train, cv=kfold, scoring=scoring)\n",
    "  results.append(cv_results)\n",
    "  names.append(name)\n",
    "  msg = \"%s: %f (%f)\" % (name, cv_results.mean(), cv_results.std())\n",
    "  print(msg)"
   ]
  },
  {
   "cell_type": "code",
   "execution_count": 129,
   "metadata": {},
   "outputs": [
    {
     "data": {
      "image/png": "[encoded data removed]",
      "text/plain": [
       "<Figure size 1080x1080 with 1 Axes>"
      ]
     },
     "metadata": {
      "needs_background": "light"
     },
     "output_type": "display_data"
    }
   ],
   "source": [
    "# Compare Algorithms\n",
    "fig = plt.figure() \n",
    "fig.suptitle('Algorithm Comparison') \n",
    "ax = fig.add_subplot(111) \n",
    "plt.boxplot(results) \n",
    "ax.set_xticklabels(names);"
   ]
  },
  {
   "cell_type": "code",
   "execution_count": 132,
   "metadata": {},
   "outputs": [
    {
     "name": "stdout",
     "output_type": "stream",
     "text": [
      "ScaledLR: -27.941384 (1.342601)\n",
      "ScaledLASSO: -31.538014 (1.699536)\n",
      "ScaledEN: -43.919407 (1.650595)\n",
      "ScaledKNN: -4.842584 (0.768371)\n",
      "ScaledCART: -1.223359 (0.553345)\n",
      "ScaledSVR: -5.435082 (1.069214)\n"
     ]
    }
   ],
   "source": [
    "# Standardize the dataset\n",
    "pipelines = []\n",
    "pipelines.append(('ScaledLR', Pipeline([('Scaler', StandardScaler()),('LR', LinearRegression())])))\n",
    "pipelines.append(('ScaledLASSO', Pipeline([('Scaler', StandardScaler()),('LASSO', Lasso())])))\n",
    "pipelines.append(('ScaledEN', Pipeline([('Scaler', StandardScaler()),('EN', ElasticNet())])))\n",
    "pipelines.append(('ScaledKNN', Pipeline([('Scaler', StandardScaler()),('KNN', KNeighborsRegressor())])))\n",
    "pipelines.append(('ScaledCART', Pipeline([('Scaler', StandardScaler()),('CART', DecisionTreeRegressor())])))\n",
    "pipelines.append(('ScaledSVR', Pipeline([('Scaler', StandardScaler()),('SVR', SVR())]))) \n",
    "results = []\n",
    "names = []\n",
    "for name, model in pipelines:\n",
    "  kfold = KFold(n_splits=num_folds, random_state=seed, shuffle=True)\n",
    "  cv_results = cross_val_score(model, X_train, y_train, cv=kfold, scoring=scoring)\n",
    "  results.append(cv_results)\n",
    "  names.append(name)\n",
    "  msg = \"%s: %f (%f)\" % (name, cv_results.mean(), cv_results.std())\n",
    "  print(msg)"
   ]
  },
  {
   "cell_type": "code",
   "execution_count": 133,
   "metadata": {},
   "outputs": [
    {
     "data": {
      "image/png": "[encoded data removed]",
      "text/plain": [
       "<Figure size 1080x1080 with 1 Axes>"
      ]
     },
     "metadata": {
      "needs_background": "light"
     },
     "output_type": "display_data"
    }
   ],
   "source": [
    "# Compare Algorithms\n",
    "fig = plt.figure()\n",
    "fig.suptitle('Scaled Algorithm Comparison') \n",
    "ax = fig.add_subplot(111) \n",
    "plt.boxplot(results) \n",
    "ax.set_xticklabels(names);"
   ]
  },
  {
   "cell_type": "code",
   "execution_count": null,
   "metadata": {},
   "outputs": [],
   "source": [
    "# KNN Algorithm tuning\n",
    "scaler = StandardScaler().fit(X_train)\n",
    "rescaledX = scaler.transform(X_train)\n",
    "k_values = numpy.array([1,3,5,7,9,11,13,15,17,19,21])\n",
    "param_grid = dict(n_neighbors=k_values)\n",
    "model = KNeighborsRegressor()\n",
    "kfold = KFold(n_splits=num_folds, random_state=seed, shuffle=True)\n",
    "grid = GridSearchCV(estimator=model, param_grid=param_grid, scoring=scoring, cv=kfold)\n",
    "grid_result = grid.fit(rescaledX, Y_train)"
   ]
  },
  {
   "cell_type": "code",
   "execution_count": null,
   "metadata": {},
   "outputs": [],
   "source": [
    "print(\"Best: %f using %s\" % (grid_result.best_score_, grid_result.best_params_)) means = grid_result.cv_results_['mean_test_score']\n",
    "stds = grid_result.cv_results_['std_test_score']\n",
    "params = grid_result.cv_results_['params']\n",
    "for mean, stdev, param in zip(means, stds, params):\n",
    "    print(\"%f (%f) with: %r\" % (mean, stdev, param))"
   ]
  },
  {
   "cell_type": "code",
   "execution_count": null,
   "metadata": {},
   "outputs": [],
   "source": []
  }
 ],
 "metadata": {
  "kernelspec": {
   "display_name": "Python 3",
   "language": "python",
   "name": "python3"
  },
  "language_info": {
   "codemirror_mode": {
    "name": "ipython",
    "version": 3
   },
   "file_extension": ".py",
   "mimetype": "text/x-python",
   "name": "python",
   "nbconvert_exporter": "python",
   "pygments_lexer": "ipython3",
   "version": "3.8.2"
  }
 },
 "nbformat": 4,
 "nbformat_minor": 4
}
